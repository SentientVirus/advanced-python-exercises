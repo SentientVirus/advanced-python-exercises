{
  "nbformat": 4,
  "nbformat_minor": 0,
  "metadata": {
    "colab": {
      "provenance": []
    },
    "kernelspec": {
      "name": "python3",
      "display_name": "Python 3"
    },
    "language_info": {
      "name": "python"
    },
    "accelerator": "GPU",
    "gpuClass": "standard"
  },
  "cells": [
    {
      "cell_type": "code",
      "execution_count": 1,
      "metadata": {
        "colab": {
          "base_uri": "https://localhost:8080/"
        },
        "id": "YWrR9YBH9Ic2",
        "outputId": "6741f9cc-5768-48e2-bcd1-12a31f1e9c36"
      },
      "outputs": [
        {
          "output_type": "stream",
          "name": "stdout",
          "text": [
            "Thu Mar  9 10:40:39 2023       \n",
            "+-----------------------------------------------------------------------------+\n",
            "| NVIDIA-SMI 525.85.12    Driver Version: 525.85.12    CUDA Version: 12.0     |\n",
            "|-------------------------------+----------------------+----------------------+\n",
            "| GPU  Name        Persistence-M| Bus-Id        Disp.A | Volatile Uncorr. ECC |\n",
            "| Fan  Temp  Perf  Pwr:Usage/Cap|         Memory-Usage | GPU-Util  Compute M. |\n",
            "|                               |                      |               MIG M. |\n",
            "|===============================+======================+======================|\n",
            "|   0  Tesla T4            Off  | 00000000:00:04.0 Off |                    0 |\n",
            "| N/A   53C    P0    25W /  70W |      0MiB / 15360MiB |      0%      Default |\n",
            "|                               |                      |                  N/A |\n",
            "+-------------------------------+----------------------+----------------------+\n",
            "                                                                               \n",
            "+-----------------------------------------------------------------------------+\n",
            "| Processes:                                                                  |\n",
            "|  GPU   GI   CI        PID   Type   Process name                  GPU Memory |\n",
            "|        ID   ID                                                   Usage      |\n",
            "|=============================================================================|\n",
            "|  No running processes found                                                 |\n",
            "+-----------------------------------------------------------------------------+\n"
          ]
        }
      ],
      "source": [
        "!nvidia-smi"
      ]
    },
    {
      "cell_type": "code",
      "source": [
        "import cupy as cpy\n",
        "n = 128\n",
        "for i in range(5):\n",
        "  a = cpy.random.rand(n,n)\n",
        "  print(n, \": \")\n",
        "  %timeit cpy.fft.fft2(a)\n",
        "  n *= 2"
      ],
      "metadata": {
        "colab": {
          "base_uri": "https://localhost:8080/"
        },
        "id": "Ia-vuwgO9dm9",
        "outputId": "7f8353d1-5dee-495c-adfe-94797bdc2d81"
      },
      "execution_count": 24,
      "outputs": [
        {
          "output_type": "stream",
          "name": "stdout",
          "text": [
            "128 : \n",
            "80 µs ± 13 µs per loop (mean ± std. dev. of 7 runs, 10000 loops each)\n",
            "256 : \n",
            "67.8 µs ± 555 ns per loop (mean ± std. dev. of 7 runs, 10000 loops each)\n",
            "512 : \n",
            "257 µs ± 1.38 µs per loop (mean ± std. dev. of 7 runs, 10000 loops each)\n",
            "1024 : \n",
            "1.14 ms ± 2.69 µs per loop (mean ± std. dev. of 7 runs, 1000 loops each)\n",
            "2048 : \n",
            "4.33 ms ± 22.9 µs per loop (mean ± std. dev. of 7 runs, 1000 loops each)\n"
          ]
        }
      ]
    },
    {
      "cell_type": "code",
      "source": [
        "import numpy as np\n",
        "n = 128\n",
        "for i in range(5):\n",
        "  a = np.random.rand(n,n)\n",
        "  print(n, \": \")\n",
        "  %timeit np.fft.fft2(a)\n",
        "  n *= 2"
      ],
      "metadata": {
        "colab": {
          "base_uri": "https://localhost:8080/"
        },
        "id": "dAVGtTyO9dRs",
        "outputId": "673df985-1ab2-4d20-daf1-0d5bf5a1b054"
      },
      "execution_count": 23,
      "outputs": [
        {
          "output_type": "stream",
          "name": "stdout",
          "text": [
            "128 : \n",
            "224 µs ± 8.11 µs per loop (mean ± std. dev. of 7 runs, 1000 loops each)\n",
            "256 : \n",
            "1.17 ms ± 250 µs per loop (mean ± std. dev. of 7 runs, 1000 loops each)\n",
            "512 : \n",
            "4.93 ms ± 92.1 µs per loop (mean ± std. dev. of 7 runs, 100 loops each)\n",
            "1024 : \n",
            "25 ms ± 350 µs per loop (mean ± std. dev. of 7 runs, 10 loops each)\n",
            "2048 : \n",
            "146 ms ± 4.65 ms per loop (mean ± std. dev. of 7 runs, 10 loops each)\n"
          ]
        }
      ]
    },
    {
      "cell_type": "code",
      "source": [
        "import cupy as cpy\n",
        "n = 128\n",
        "for i in range(5):\n",
        "  a = cpy.random.rand(n, n, dtype = cpy.float32)\n",
        "  print(n, \": \")\n",
        "  %timeit cpy.fft.fft2(a)\n",
        "  n *= 2"
      ],
      "metadata": {
        "colab": {
          "base_uri": "https://localhost:8080/"
        },
        "id": "deueinl2AUis",
        "outputId": "8dd60190-8691-48da-bf69-e1bd522b507f"
      },
      "execution_count": 30,
      "outputs": [
        {
          "output_type": "stream",
          "name": "stdout",
          "text": [
            "128 : \n",
            "92.5 µs ± 48.4 µs per loop (mean ± std. dev. of 7 runs, 1 loop each)\n",
            "256 : \n",
            "69.3 µs ± 1.81 µs per loop (mean ± std. dev. of 7 runs, 10000 loops each)\n",
            "512 : \n",
            "79.1 µs ± 16.4 µs per loop (mean ± std. dev. of 7 runs, 10000 loops each)\n",
            "1024 : \n",
            "233 µs ± 637 ns per loop (mean ± std. dev. of 7 runs, 10000 loops each)\n",
            "2048 : \n",
            "962 µs ± 400 ns per loop (mean ± std. dev. of 7 runs, 1000 loops each)\n"
          ]
        }
      ]
    },
    {
      "cell_type": "code",
      "source": [
        "import numpy as np\n",
        "n = 128\n",
        "for i in range(5):\n",
        "  a = np.random.rand(n, n).astype(np.float32)\n",
        "  print(n, \": \")\n",
        "  %timeit np.fft.fft2(a)\n",
        "  n *= 2"
      ],
      "metadata": {
        "colab": {
          "base_uri": "https://localhost:8080/"
        },
        "id": "oJJa95pgAZEl",
        "outputId": "4e502cf1-fdb6-483c-c5ab-c870652af228"
      },
      "execution_count": 35,
      "outputs": [
        {
          "output_type": "stream",
          "name": "stdout",
          "text": [
            "128 : \n",
            "230 µs ± 8.71 µs per loop (mean ± std. dev. of 7 runs, 1000 loops each)\n",
            "256 : \n",
            "1.04 ms ± 156 µs per loop (mean ± std. dev. of 7 runs, 1000 loops each)\n",
            "512 : \n",
            "5 ms ± 514 µs per loop (mean ± std. dev. of 7 runs, 100 loops each)\n",
            "1024 : \n",
            "26.3 ms ± 894 µs per loop (mean ± std. dev. of 7 runs, 10 loops each)\n",
            "2048 : \n",
            "151 ms ± 19.1 ms per loop (mean ± std. dev. of 7 runs, 10 loops each)\n"
          ]
        }
      ]
    }
  ]
}